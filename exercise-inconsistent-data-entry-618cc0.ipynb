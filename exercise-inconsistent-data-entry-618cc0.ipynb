{
 "cells": [
  {
   "cell_type": "markdown",
   "id": "8b16013d",
   "metadata": {
    "papermill": {
     "duration": 0.015019,
     "end_time": "2022-05-15T16:25:01.404679",
     "exception": false,
     "start_time": "2022-05-15T16:25:01.389660",
     "status": "completed"
    },
    "tags": []
   },
   "source": [
    "**This notebook is an exercise in the [Data Cleaning](https://www.kaggle.com/learn/data-cleaning) course.  You can reference the tutorial at [this link](https://www.kaggle.com/alexisbcook/inconsistent-data-entry).**\n",
    "\n",
    "---\n"
   ]
  },
  {
   "cell_type": "markdown",
   "id": "b34ed618",
   "metadata": {
    "papermill": {
     "duration": 0.013569,
     "end_time": "2022-05-15T16:25:01.432207",
     "exception": false,
     "start_time": "2022-05-15T16:25:01.418638",
     "status": "completed"
    },
    "tags": []
   },
   "source": [
    "In this exercise, you'll apply what you learned in the **Inconsistent data entry** tutorial.\n",
    "\n",
    "# Setup\n",
    "\n",
    "The questions below will give you feedback on your work. Run the following cell to set up the feedback system."
   ]
  },
  {
   "cell_type": "code",
   "execution_count": 1,
   "id": "2cdb93f9",
   "metadata": {
    "execution": {
     "iopub.execute_input": "2022-05-15T16:25:01.461968Z",
     "iopub.status.busy": "2022-05-15T16:25:01.461612Z",
     "iopub.status.idle": "2022-05-15T16:25:01.564805Z",
     "shell.execute_reply": "2022-05-15T16:25:01.563513Z"
    },
    "papermill": {
     "duration": 0.121664,
     "end_time": "2022-05-15T16:25:01.567850",
     "exception": false,
     "start_time": "2022-05-15T16:25:01.446186",
     "status": "completed"
    },
    "tags": []
   },
   "outputs": [
    {
     "name": "stdout",
     "output_type": "stream",
     "text": [
      "Setup Complete\n"
     ]
    }
   ],
   "source": [
    "from learntools.core import binder\n",
    "binder.bind(globals())\n",
    "from learntools.data_cleaning.ex5 import *\n",
    "print(\"Setup Complete\")"
   ]
  },
  {
   "cell_type": "markdown",
   "id": "254949cd",
   "metadata": {
    "papermill": {
     "duration": 0.013876,
     "end_time": "2022-05-15T16:25:01.597261",
     "exception": false,
     "start_time": "2022-05-15T16:25:01.583385",
     "status": "completed"
    },
    "tags": []
   },
   "source": [
    "# Get our environment set up\n",
    "\n",
    "The first thing we'll need to do is load in the libraries and dataset we'll be using.  We use the same dataset from the tutorial."
   ]
  },
  {
   "cell_type": "code",
   "execution_count": 2,
   "id": "4a361f7e",
   "metadata": {
    "execution": {
     "iopub.execute_input": "2022-05-15T16:25:01.635579Z",
     "iopub.status.busy": "2022-05-15T16:25:01.634482Z",
     "iopub.status.idle": "2022-05-15T16:25:01.654892Z",
     "shell.execute_reply": "2022-05-15T16:25:01.653841Z"
    },
    "papermill": {
     "duration": 0.046203,
     "end_time": "2022-05-15T16:25:01.658621",
     "exception": false,
     "start_time": "2022-05-15T16:25:01.612418",
     "status": "completed"
    },
    "tags": []
   },
   "outputs": [],
   "source": [
    "# modules we'll use\n",
    "import pandas as pd\n",
    "import numpy as np\n",
    "\n",
    "# helpful modules\n",
    "import fuzzywuzzy\n",
    "from fuzzywuzzy import process\n",
    "import chardet\n",
    "\n",
    "# read in all our data\n",
    "professors = pd.read_csv(\"../input/pakistan-intellectual-capital/pakistan_intellectual_capital.csv\")\n",
    "\n",
    "# set seed for reproducibility\n",
    "np.random.seed(0)"
   ]
  },
  {
   "cell_type": "markdown",
   "id": "2fdae7c7",
   "metadata": {
    "papermill": {
     "duration": 0.017089,
     "end_time": "2022-05-15T16:25:01.691573",
     "exception": false,
     "start_time": "2022-05-15T16:25:01.674484",
     "status": "completed"
    },
    "tags": []
   },
   "source": [
    "Next, we'll redo all of the work that we did in the tutorial."
   ]
  },
  {
   "cell_type": "code",
   "execution_count": 3,
   "id": "c2ea488b",
   "metadata": {
    "execution": {
     "iopub.execute_input": "2022-05-15T16:25:01.724869Z",
     "iopub.status.busy": "2022-05-15T16:25:01.723959Z",
     "iopub.status.idle": "2022-05-15T16:25:01.739970Z",
     "shell.execute_reply": "2022-05-15T16:25:01.739132Z"
    },
    "papermill": {
     "duration": 0.036539,
     "end_time": "2022-05-15T16:25:01.742613",
     "exception": false,
     "start_time": "2022-05-15T16:25:01.706074",
     "status": "completed"
    },
    "tags": []
   },
   "outputs": [
    {
     "name": "stdout",
     "output_type": "stream",
     "text": [
      "All done!\n"
     ]
    }
   ],
   "source": [
    "# convert to lower case\n",
    "professors['Country'] = professors['Country'].str.lower()\n",
    "# remove trailing white spaces\n",
    "professors['Country'] = professors['Country'].str.strip()\n",
    "\n",
    "# get the top 10 closest matches to \"south korea\"\n",
    "countries = professors['Country'].unique()\n",
    "matches = fuzzywuzzy.process.extract(\"south korea\", countries, limit=10, scorer=fuzzywuzzy.fuzz.token_sort_ratio)\n",
    "\n",
    "def replace_matches_in_column(df, column, string_to_match, min_ratio = 47):\n",
    "    # get a list of unique strings\n",
    "    strings = df[column].unique()\n",
    "    \n",
    "    # get the top 10 closest matches to our input string\n",
    "    matches = fuzzywuzzy.process.extract(string_to_match, strings, \n",
    "                                         limit=10, scorer=fuzzywuzzy.fuzz.token_sort_ratio)\n",
    "\n",
    "    # only get matches with a ratio > 90\n",
    "    close_matches = [matches[0] for matches in matches if matches[1] >= min_ratio]\n",
    "\n",
    "    # get the rows of all the close matches in our dataframe\n",
    "    rows_with_matches = df[column].isin(close_matches)\n",
    "\n",
    "    # replace all rows with close matches with the input matches \n",
    "    df.loc[rows_with_matches, column] = string_to_match\n",
    "    \n",
    "    # let us know the function's done\n",
    "    print(\"All done!\")\n",
    "    \n",
    "replace_matches_in_column(df=professors, column='Country', string_to_match=\"south korea\")\n",
    "countries = professors['Country'].unique()"
   ]
  },
  {
   "cell_type": "markdown",
   "id": "b40f49b4",
   "metadata": {
    "papermill": {
     "duration": 0.018102,
     "end_time": "2022-05-15T16:25:01.775532",
     "exception": false,
     "start_time": "2022-05-15T16:25:01.757430",
     "status": "completed"
    },
    "tags": []
   },
   "source": [
    "# 1) Examine another column\n",
    "\n",
    "Write code below to take a look at all the unique values in the \"Graduated from\" column."
   ]
  },
  {
   "cell_type": "code",
   "execution_count": 4,
   "id": "86b3b32a",
   "metadata": {
    "execution": {
     "iopub.execute_input": "2022-05-15T16:25:01.809225Z",
     "iopub.status.busy": "2022-05-15T16:25:01.808968Z",
     "iopub.status.idle": "2022-05-15T16:25:01.813122Z",
     "shell.execute_reply": "2022-05-15T16:25:01.812243Z"
    },
    "papermill": {
     "duration": 0.023622,
     "end_time": "2022-05-15T16:25:01.814813",
     "exception": false,
     "start_time": "2022-05-15T16:25:01.791191",
     "status": "completed"
    },
    "tags": []
   },
   "outputs": [],
   "source": [
    "# TODO: Your code here\n",
    "unis = professors['Graduated from'].unique()"
   ]
  },
  {
   "cell_type": "markdown",
   "id": "d96148b9",
   "metadata": {
    "papermill": {
     "duration": 0.016049,
     "end_time": "2022-05-15T16:25:01.845667",
     "exception": false,
     "start_time": "2022-05-15T16:25:01.829618",
     "status": "completed"
    },
    "tags": []
   },
   "source": [
    "Do you notice any inconsistencies in the data?  Can any of the inconsistencies in the data be fixed by removing white spaces at the beginning and end of cells?\n",
    "\n",
    "Once you have answered these questions, run the code cell below to get credit for your work."
   ]
  },
  {
   "cell_type": "code",
   "execution_count": 5,
   "id": "620dcd68",
   "metadata": {
    "execution": {
     "iopub.execute_input": "2022-05-15T16:25:01.876746Z",
     "iopub.status.busy": "2022-05-15T16:25:01.876169Z",
     "iopub.status.idle": "2022-05-15T16:25:01.884222Z",
     "shell.execute_reply": "2022-05-15T16:25:01.883574Z"
    },
    "papermill": {
     "duration": 0.02573,
     "end_time": "2022-05-15T16:25:01.885879",
     "exception": false,
     "start_time": "2022-05-15T16:25:01.860149",
     "status": "completed"
    },
    "tags": []
   },
   "outputs": [
    {
     "data": {
      "application/javascript": [
       "parent.postMessage({\"jupyterEvent\": \"custom.exercise_interaction\", \"data\": {\"outcomeType\": 1, \"valueTowardsCompletion\": 0.3333333333333333, \"interactionType\": 1, \"questionType\": 4, \"questionId\": \"1_ExamineProvince\", \"learnToolsVersion\": \"0.3.4\", \"failureMessage\": \"\", \"exceptionClass\": \"\", \"trace\": \"\"}}, \"*\")"
      ],
      "text/plain": [
       "<IPython.core.display.Javascript object>"
      ]
     },
     "metadata": {},
     "output_type": "display_data"
    },
    {
     "data": {
      "text/markdown": [
       "<span style=\"color:#33cc33\">Correct:</span> \n",
       "\n",
       "There are inconsistencies that can be fixed by removing white spaces at the beginning and end of cells.  For instance, \"University of Central Florida\" and \" University of Central Florida\" both appear in the column."
      ],
      "text/plain": [
       "Correct: \n",
       "\n",
       "There are inconsistencies that can be fixed by removing white spaces at the beginning and end of cells.  For instance, \"University of Central Florida\" and \" University of Central Florida\" both appear in the column."
      ]
     },
     "metadata": {},
     "output_type": "display_data"
    }
   ],
   "source": [
    "# Check your answer (Run this code cell to receive credit!)\n",
    "q1.check()"
   ]
  },
  {
   "cell_type": "code",
   "execution_count": 6,
   "id": "4c5127ed",
   "metadata": {
    "execution": {
     "iopub.execute_input": "2022-05-15T16:25:01.921449Z",
     "iopub.status.busy": "2022-05-15T16:25:01.920940Z",
     "iopub.status.idle": "2022-05-15T16:25:01.926590Z",
     "shell.execute_reply": "2022-05-15T16:25:01.925968Z"
    },
    "papermill": {
     "duration": 0.026684,
     "end_time": "2022-05-15T16:25:01.928295",
     "exception": false,
     "start_time": "2022-05-15T16:25:01.901611",
     "status": "completed"
    },
    "tags": []
   },
   "outputs": [
    {
     "data": {
      "application/javascript": [
       "parent.postMessage({\"jupyterEvent\": \"custom.exercise_interaction\", \"data\": {\"interactionType\": 2, \"questionType\": 4, \"questionId\": \"1_ExamineProvince\", \"learnToolsVersion\": \"0.3.4\", \"valueTowardsCompletion\": 0.0, \"failureMessage\": \"\", \"exceptionClass\": \"\", \"trace\": \"\", \"outcomeType\": 4}}, \"*\")"
      ],
      "text/plain": [
       "<IPython.core.display.Javascript object>"
      ]
     },
     "metadata": {},
     "output_type": "display_data"
    },
    {
     "data": {
      "text/markdown": [
       "<span style=\"color:#3366cc\">Hint:</span> Use `unis = professors['Graduated from'].unique()` to take a look at the unique values in the 'Graduated from' column. You may find it useful to sort the data before printing it."
      ],
      "text/plain": [
       "Hint: Use `unis = professors['Graduated from'].unique()` to take a look at the unique values in the 'Graduated from' column. You may find it useful to sort the data before printing it."
      ]
     },
     "metadata": {},
     "output_type": "display_data"
    }
   ],
   "source": [
    "# Line below will give you a hint\n",
    "q1.hint()"
   ]
  },
  {
   "cell_type": "markdown",
   "id": "a4b225f8",
   "metadata": {
    "papermill": {
     "duration": 0.016113,
     "end_time": "2022-05-15T16:25:01.962023",
     "exception": false,
     "start_time": "2022-05-15T16:25:01.945910",
     "status": "completed"
    },
    "tags": []
   },
   "source": [
    "# 2) Do some text pre-processing\n",
    "\n",
    "Convert every entry in the \"Graduated from\" column in the `professors` DataFrame to remove white spaces at the beginning and end of cells."
   ]
  },
  {
   "cell_type": "code",
   "execution_count": 7,
   "id": "d71ed1f7",
   "metadata": {
    "execution": {
     "iopub.execute_input": "2022-05-15T16:25:01.998131Z",
     "iopub.status.busy": "2022-05-15T16:25:01.997544Z",
     "iopub.status.idle": "2022-05-15T16:25:02.007459Z",
     "shell.execute_reply": "2022-05-15T16:25:02.006941Z"
    },
    "papermill": {
     "duration": 0.029664,
     "end_time": "2022-05-15T16:25:02.009096",
     "exception": false,
     "start_time": "2022-05-15T16:25:01.979432",
     "status": "completed"
    },
    "tags": []
   },
   "outputs": [
    {
     "data": {
      "application/javascript": [
       "parent.postMessage({\"jupyterEvent\": \"custom.exercise_interaction\", \"data\": {\"outcomeType\": 1, \"valueTowardsCompletion\": 0.3333333333333333, \"interactionType\": 1, \"questionType\": 1, \"questionId\": \"2_TextProcessing\", \"learnToolsVersion\": \"0.3.4\", \"failureMessage\": \"\", \"exceptionClass\": \"\", \"trace\": \"\"}}, \"*\")"
      ],
      "text/plain": [
       "<IPython.core.display.Javascript object>"
      ]
     },
     "metadata": {},
     "output_type": "display_data"
    },
    {
     "data": {
      "text/markdown": [
       "<span style=\"color:#33cc33\">Correct</span>"
      ],
      "text/plain": [
       "Correct"
      ]
     },
     "metadata": {},
     "output_type": "display_data"
    }
   ],
   "source": [
    "# TODO: Your code here\n",
    "professors['Graduated from'] = professors['Graduated from'].str.strip()\n",
    "\n",
    "# Check your answer\n",
    "q2.check()"
   ]
  },
  {
   "cell_type": "code",
   "execution_count": 8,
   "id": "ac0b1c65",
   "metadata": {
    "execution": {
     "iopub.execute_input": "2022-05-15T16:25:02.045937Z",
     "iopub.status.busy": "2022-05-15T16:25:02.045242Z",
     "iopub.status.idle": "2022-05-15T16:25:02.048485Z",
     "shell.execute_reply": "2022-05-15T16:25:02.047877Z"
    },
    "papermill": {
     "duration": 0.023981,
     "end_time": "2022-05-15T16:25:02.050254",
     "exception": false,
     "start_time": "2022-05-15T16:25:02.026273",
     "status": "completed"
    },
    "tags": []
   },
   "outputs": [],
   "source": [
    "# Lines below will give you a hint or solution code\n",
    "# q2.hint()\n",
    "# q2.solution()"
   ]
  },
  {
   "cell_type": "markdown",
   "id": "ca64d520",
   "metadata": {
    "papermill": {
     "duration": 0.016829,
     "end_time": "2022-05-15T16:25:02.085082",
     "exception": false,
     "start_time": "2022-05-15T16:25:02.068253",
     "status": "completed"
    },
    "tags": []
   },
   "source": [
    "# 3) Continue working with countries\n",
    "\n",
    "In the tutorial, we focused on cleaning up inconsistencies in the \"Country\" column.  Run the code cell below to view the list of unique values that we ended with."
   ]
  },
  {
   "cell_type": "code",
   "execution_count": 9,
   "id": "b1b23462",
   "metadata": {
    "execution": {
     "iopub.execute_input": "2022-05-15T16:25:02.122382Z",
     "iopub.status.busy": "2022-05-15T16:25:02.122123Z",
     "iopub.status.idle": "2022-05-15T16:25:02.129776Z",
     "shell.execute_reply": "2022-05-15T16:25:02.128893Z"
    },
    "papermill": {
     "duration": 0.029707,
     "end_time": "2022-05-15T16:25:02.131897",
     "exception": false,
     "start_time": "2022-05-15T16:25:02.102190",
     "status": "completed"
    },
    "tags": []
   },
   "outputs": [
    {
     "data": {
      "text/plain": [
       "array(['australia', 'austria', 'canada', 'china', 'finland', 'france',\n",
       "       'germany', 'greece', 'hongkong', 'ireland', 'italy', 'japan',\n",
       "       'macau', 'malaysia', 'mauritius', 'netherland', 'new zealand',\n",
       "       'norway', 'pakistan', 'portugal', 'russian federation',\n",
       "       'saudi arabia', 'scotland', 'singapore', 'south korea', 'spain',\n",
       "       'sweden', 'thailand', 'turkey', 'uk', 'urbana', 'usa', 'usofa'],\n",
       "      dtype=object)"
      ]
     },
     "execution_count": 9,
     "metadata": {},
     "output_type": "execute_result"
    }
   ],
   "source": [
    "# get all the unique values in the 'City' column\n",
    "countries = professors['Country'].unique()\n",
    "\n",
    "# sort them alphabetically and then take a closer look\n",
    "countries.sort()\n",
    "countries"
   ]
  },
  {
   "cell_type": "markdown",
   "id": "18eba4a1",
   "metadata": {
    "papermill": {
     "duration": 0.029899,
     "end_time": "2022-05-15T16:25:02.186555",
     "exception": false,
     "start_time": "2022-05-15T16:25:02.156656",
     "status": "completed"
    },
    "tags": []
   },
   "source": [
    "Take another look at the \"Country\" column and see if there's any more data cleaning we need to do.\n",
    "\n",
    "It looks like 'usa' and 'usofa' should be the same country.  Correct the \"Country\" column in the dataframe to replace 'usofa' with 'usa'.\n",
    "\n",
    "**Use the most recent version of the DataFrame (with the whitespaces at the beginning and end of cells removed) from question 2.**"
   ]
  },
  {
   "cell_type": "code",
   "execution_count": 10,
   "id": "e8e38396",
   "metadata": {
    "execution": {
     "iopub.execute_input": "2022-05-15T16:25:02.233789Z",
     "iopub.status.busy": "2022-05-15T16:25:02.232654Z",
     "iopub.status.idle": "2022-05-15T16:25:02.245915Z",
     "shell.execute_reply": "2022-05-15T16:25:02.245081Z"
    },
    "papermill": {
     "duration": 0.034295,
     "end_time": "2022-05-15T16:25:02.247897",
     "exception": false,
     "start_time": "2022-05-15T16:25:02.213602",
     "status": "completed"
    },
    "tags": []
   },
   "outputs": [
    {
     "name": "stdout",
     "output_type": "stream",
     "text": [
      "All done!\n"
     ]
    },
    {
     "data": {
      "application/javascript": [
       "parent.postMessage({\"jupyterEvent\": \"custom.exercise_interaction\", \"data\": {\"outcomeType\": 1, \"valueTowardsCompletion\": 0.3333333333333333, \"interactionType\": 1, \"questionType\": 1, \"questionId\": \"3_WorkingWithCities\", \"learnToolsVersion\": \"0.3.4\", \"failureMessage\": \"\", \"exceptionClass\": \"\", \"trace\": \"\"}}, \"*\")"
      ],
      "text/plain": [
       "<IPython.core.display.Javascript object>"
      ]
     },
     "metadata": {},
     "output_type": "display_data"
    },
    {
     "data": {
      "text/markdown": [
       "<span style=\"color:#33cc33\">Correct</span>"
      ],
      "text/plain": [
       "Correct"
      ]
     },
     "metadata": {},
     "output_type": "display_data"
    }
   ],
   "source": [
    "# TODO: Your code here!\n",
    "matches = fuzzywuzzy.process.extract(\"usa\", countries, limit=10, scorer=fuzzywuzzy.fuzz.token_sort_ratio)\n",
    "replace_matches_in_column(df=professors, column='Country', string_to_match=\"usa\", min_ratio=70)\n",
    "\n",
    "# Check your answer\n",
    "q3.check()"
   ]
  },
  {
   "cell_type": "code",
   "execution_count": 11,
   "id": "c7d99eb0",
   "metadata": {
    "execution": {
     "iopub.execute_input": "2022-05-15T16:25:02.287033Z",
     "iopub.status.busy": "2022-05-15T16:25:02.286471Z",
     "iopub.status.idle": "2022-05-15T16:25:02.290234Z",
     "shell.execute_reply": "2022-05-15T16:25:02.289420Z"
    },
    "papermill": {
     "duration": 0.025432,
     "end_time": "2022-05-15T16:25:02.292140",
     "exception": false,
     "start_time": "2022-05-15T16:25:02.266708",
     "status": "completed"
    },
    "tags": []
   },
   "outputs": [],
   "source": [
    "# Lines below will give you a hint or solution code\n",
    "#q3.hint()\n",
    "#q3.solution()"
   ]
  },
  {
   "cell_type": "markdown",
   "id": "30514a6c",
   "metadata": {
    "papermill": {
     "duration": 0.018306,
     "end_time": "2022-05-15T16:25:02.329621",
     "exception": false,
     "start_time": "2022-05-15T16:25:02.311315",
     "status": "completed"
    },
    "tags": []
   },
   "source": [
    "# Congratulations!\n",
    "\n",
    "Congratulations for completing the **Data Cleaning** course on Kaggle Learn!\n",
    "\n",
    "To practice your new skills, you're encouraged to download and investigate some of [Kaggle's Datasets](https://www.kaggle.com/datasets)."
   ]
  },
  {
   "cell_type": "markdown",
   "id": "f363d0d5",
   "metadata": {
    "papermill": {
     "duration": 0.0189,
     "end_time": "2022-05-15T16:25:02.367886",
     "exception": false,
     "start_time": "2022-05-15T16:25:02.348986",
     "status": "completed"
    },
    "tags": []
   },
   "source": [
    "---\n",
    "\n",
    "\n",
    "\n",
    "\n",
    "*Have questions or comments? Visit the [course discussion forum](https://www.kaggle.com/learn/data-cleaning/discussion) to chat with other learners.*"
   ]
  }
 ],
 "metadata": {
  "kernelspec": {
   "display_name": "Python 3",
   "language": "python",
   "name": "python3"
  },
  "language_info": {
   "codemirror_mode": {
    "name": "ipython",
    "version": 3
   },
   "file_extension": ".py",
   "mimetype": "text/x-python",
   "name": "python",
   "nbconvert_exporter": "python",
   "pygments_lexer": "ipython3",
   "version": "3.7.12"
  },
  "papermill": {
   "default_parameters": {},
   "duration": 10.165296,
   "end_time": "2022-05-15T16:25:03.006468",
   "environment_variables": {},
   "exception": null,
   "input_path": "__notebook__.ipynb",
   "output_path": "__notebook__.ipynb",
   "parameters": {},
   "start_time": "2022-05-15T16:24:52.841172",
   "version": "2.3.4"
  }
 },
 "nbformat": 4,
 "nbformat_minor": 5
}
