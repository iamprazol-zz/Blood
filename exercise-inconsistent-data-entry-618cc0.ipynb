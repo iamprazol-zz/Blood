{
 "cells": [
  {
   "cell_type": "markdown",
   "id": "2275e757",
   "metadata": {
    "papermill": {
     "duration": 0.014937,
     "end_time": "2022-05-15T16:23:08.472777",
     "exception": false,
     "start_time": "2022-05-15T16:23:08.457840",
     "status": "completed"
    },
    "tags": []
   },
   "source": [
    "**This notebook is an exercise in the [Data Cleaning](https://www.kaggle.com/learn/data-cleaning) course.  You can reference the tutorial at [this link](https://www.kaggle.com/alexisbcook/inconsistent-data-entry).**\n",
    "\n",
    "---\n"
   ]
  },
  {
   "cell_type": "markdown",
   "id": "6da348dd",
   "metadata": {
    "papermill": {
     "duration": 0.013593,
     "end_time": "2022-05-15T16:23:08.500450",
     "exception": false,
     "start_time": "2022-05-15T16:23:08.486857",
     "status": "completed"
    },
    "tags": []
   },
   "source": [
    "In this exercise, you'll apply what you learned in the **Inconsistent data entry** tutorial.\n",
    "\n",
    "# Setup\n",
    "\n",
    "The questions below will give you feedback on your work. Run the following cell to set up the feedback system."
   ]
  },
  {
   "cell_type": "code",
   "execution_count": 1,
   "id": "487f871a",
   "metadata": {
    "execution": {
     "iopub.execute_input": "2022-05-15T16:23:08.530207Z",
     "iopub.status.busy": "2022-05-15T16:23:08.529827Z",
     "iopub.status.idle": "2022-05-15T16:23:08.615893Z",
     "shell.execute_reply": "2022-05-15T16:23:08.615238Z"
    },
    "papermill": {
     "duration": 0.103747,
     "end_time": "2022-05-15T16:23:08.618192",
     "exception": false,
     "start_time": "2022-05-15T16:23:08.514445",
     "status": "completed"
    },
    "tags": []
   },
   "outputs": [
    {
     "name": "stdout",
     "output_type": "stream",
     "text": [
      "Setup Complete\n"
     ]
    }
   ],
   "source": [
    "from learntools.core import binder\n",
    "binder.bind(globals())\n",
    "from learntools.data_cleaning.ex5 import *\n",
    "print(\"Setup Complete\")"
   ]
  },
  {
   "cell_type": "markdown",
   "id": "aa667ed9",
   "metadata": {
    "papermill": {
     "duration": 0.013806,
     "end_time": "2022-05-15T16:23:08.646759",
     "exception": false,
     "start_time": "2022-05-15T16:23:08.632953",
     "status": "completed"
    },
    "tags": []
   },
   "source": [
    "# Get our environment set up\n",
    "\n",
    "The first thing we'll need to do is load in the libraries and dataset we'll be using.  We use the same dataset from the tutorial."
   ]
  },
  {
   "cell_type": "code",
   "execution_count": 2,
   "id": "e5993c92",
   "metadata": {
    "execution": {
     "iopub.execute_input": "2022-05-15T16:23:08.677270Z",
     "iopub.status.busy": "2022-05-15T16:23:08.676786Z",
     "iopub.status.idle": "2022-05-15T16:23:08.690016Z",
     "shell.execute_reply": "2022-05-15T16:23:08.689352Z"
    },
    "papermill": {
     "duration": 0.031334,
     "end_time": "2022-05-15T16:23:08.692158",
     "exception": false,
     "start_time": "2022-05-15T16:23:08.660824",
     "status": "completed"
    },
    "tags": []
   },
   "outputs": [],
   "source": [
    "# modules we'll use\n",
    "import pandas as pd\n",
    "import numpy as np\n",
    "\n",
    "# helpful modules\n",
    "import fuzzywuzzy\n",
    "from fuzzywuzzy import process\n",
    "import chardet\n",
    "\n",
    "# read in all our data\n",
    "professors = pd.read_csv(\"../input/pakistan-intellectual-capital/pakistan_intellectual_capital.csv\")\n",
    "\n",
    "# set seed for reproducibility\n",
    "np.random.seed(0)"
   ]
  },
  {
   "cell_type": "markdown",
   "id": "f423a181",
   "metadata": {
    "papermill": {
     "duration": 0.013866,
     "end_time": "2022-05-15T16:23:08.720334",
     "exception": false,
     "start_time": "2022-05-15T16:23:08.706468",
     "status": "completed"
    },
    "tags": []
   },
   "source": [
    "Next, we'll redo all of the work that we did in the tutorial."
   ]
  },
  {
   "cell_type": "code",
   "execution_count": 3,
   "id": "bb32fbf6",
   "metadata": {
    "execution": {
     "iopub.execute_input": "2022-05-15T16:23:08.750413Z",
     "iopub.status.busy": "2022-05-15T16:23:08.749907Z",
     "iopub.status.idle": "2022-05-15T16:23:08.762953Z",
     "shell.execute_reply": "2022-05-15T16:23:08.762270Z"
    },
    "papermill": {
     "duration": 0.030541,
     "end_time": "2022-05-15T16:23:08.764946",
     "exception": false,
     "start_time": "2022-05-15T16:23:08.734405",
     "status": "completed"
    },
    "tags": []
   },
   "outputs": [
    {
     "name": "stdout",
     "output_type": "stream",
     "text": [
      "All done!\n"
     ]
    }
   ],
   "source": [
    "# convert to lower case\n",
    "professors['Country'] = professors['Country'].str.lower()\n",
    "# remove trailing white spaces\n",
    "professors['Country'] = professors['Country'].str.strip()\n",
    "\n",
    "# get the top 10 closest matches to \"south korea\"\n",
    "countries = professors['Country'].unique()\n",
    "matches = fuzzywuzzy.process.extract(\"south korea\", countries, limit=10, scorer=fuzzywuzzy.fuzz.token_sort_ratio)\n",
    "\n",
    "def replace_matches_in_column(df, column, string_to_match, min_ratio = 47):\n",
    "    # get a list of unique strings\n",
    "    strings = df[column].unique()\n",
    "    \n",
    "    # get the top 10 closest matches to our input string\n",
    "    matches = fuzzywuzzy.process.extract(string_to_match, strings, \n",
    "                                         limit=10, scorer=fuzzywuzzy.fuzz.token_sort_ratio)\n",
    "\n",
    "    # only get matches with a ratio > 90\n",
    "    close_matches = [matches[0] for matches in matches if matches[1] >= min_ratio]\n",
    "\n",
    "    # get the rows of all the close matches in our dataframe\n",
    "    rows_with_matches = df[column].isin(close_matches)\n",
    "\n",
    "    # replace all rows with close matches with the input matches \n",
    "    df.loc[rows_with_matches, column] = string_to_match\n",
    "    \n",
    "    # let us know the function's done\n",
    "    print(\"All done!\")\n",
    "    \n",
    "replace_matches_in_column(df=professors, column='Country', string_to_match=\"south korea\")\n",
    "countries = professors['Country'].unique()"
   ]
  },
  {
   "cell_type": "markdown",
   "id": "4f985d51",
   "metadata": {
    "papermill": {
     "duration": 0.014512,
     "end_time": "2022-05-15T16:23:08.794144",
     "exception": false,
     "start_time": "2022-05-15T16:23:08.779632",
     "status": "completed"
    },
    "tags": []
   },
   "source": [
    "# 1) Examine another column\n",
    "\n",
    "Write code below to take a look at all the unique values in the \"Graduated from\" column."
   ]
  },
  {
   "cell_type": "code",
   "execution_count": 4,
   "id": "602781bc",
   "metadata": {
    "execution": {
     "iopub.execute_input": "2022-05-15T16:23:08.825247Z",
     "iopub.status.busy": "2022-05-15T16:23:08.824450Z",
     "iopub.status.idle": "2022-05-15T16:23:08.829674Z",
     "shell.execute_reply": "2022-05-15T16:23:08.829066Z"
    },
    "papermill": {
     "duration": 0.022774,
     "end_time": "2022-05-15T16:23:08.831401",
     "exception": false,
     "start_time": "2022-05-15T16:23:08.808627",
     "status": "completed"
    },
    "tags": []
   },
   "outputs": [],
   "source": [
    "# TODO: Your code here\n",
    "unis = professors['Graduated from'].unique()"
   ]
  },
  {
   "cell_type": "markdown",
   "id": "1d980d1c",
   "metadata": {
    "papermill": {
     "duration": 0.022196,
     "end_time": "2022-05-15T16:23:08.868882",
     "exception": false,
     "start_time": "2022-05-15T16:23:08.846686",
     "status": "completed"
    },
    "tags": []
   },
   "source": [
    "Do you notice any inconsistencies in the data?  Can any of the inconsistencies in the data be fixed by removing white spaces at the beginning and end of cells?\n",
    "\n",
    "Once you have answered these questions, run the code cell below to get credit for your work."
   ]
  },
  {
   "cell_type": "code",
   "execution_count": 5,
   "id": "a5221b03",
   "metadata": {
    "execution": {
     "iopub.execute_input": "2022-05-15T16:23:08.905142Z",
     "iopub.status.busy": "2022-05-15T16:23:08.903950Z",
     "iopub.status.idle": "2022-05-15T16:23:08.915613Z",
     "shell.execute_reply": "2022-05-15T16:23:08.914713Z"
    },
    "papermill": {
     "duration": 0.03233,
     "end_time": "2022-05-15T16:23:08.918941",
     "exception": false,
     "start_time": "2022-05-15T16:23:08.886611",
     "status": "completed"
    },
    "tags": []
   },
   "outputs": [
    {
     "data": {
      "application/javascript": [
       "parent.postMessage({\"jupyterEvent\": \"custom.exercise_interaction\", \"data\": {\"outcomeType\": 1, \"valueTowardsCompletion\": 0.3333333333333333, \"interactionType\": 1, \"questionType\": 4, \"questionId\": \"1_ExamineProvince\", \"learnToolsVersion\": \"0.3.4\", \"failureMessage\": \"\", \"exceptionClass\": \"\", \"trace\": \"\"}}, \"*\")"
      ],
      "text/plain": [
       "<IPython.core.display.Javascript object>"
      ]
     },
     "metadata": {},
     "output_type": "display_data"
    },
    {
     "data": {
      "text/markdown": [
       "<span style=\"color:#33cc33\">Correct:</span> \n",
       "\n",
       "There are inconsistencies that can be fixed by removing white spaces at the beginning and end of cells.  For instance, \"University of Central Florida\" and \" University of Central Florida\" both appear in the column."
      ],
      "text/plain": [
       "Correct: \n",
       "\n",
       "There are inconsistencies that can be fixed by removing white spaces at the beginning and end of cells.  For instance, \"University of Central Florida\" and \" University of Central Florida\" both appear in the column."
      ]
     },
     "metadata": {},
     "output_type": "display_data"
    }
   ],
   "source": [
    "# Check your answer (Run this code cell to receive credit!)\n",
    "q1.check()"
   ]
  },
  {
   "cell_type": "code",
   "execution_count": 6,
   "id": "93fedf2a",
   "metadata": {
    "execution": {
     "iopub.execute_input": "2022-05-15T16:23:08.955485Z",
     "iopub.status.busy": "2022-05-15T16:23:08.955199Z",
     "iopub.status.idle": "2022-05-15T16:23:08.961740Z",
     "shell.execute_reply": "2022-05-15T16:23:08.960928Z"
    },
    "papermill": {
     "duration": 0.026963,
     "end_time": "2022-05-15T16:23:08.963549",
     "exception": false,
     "start_time": "2022-05-15T16:23:08.936586",
     "status": "completed"
    },
    "tags": []
   },
   "outputs": [
    {
     "data": {
      "application/javascript": [
       "parent.postMessage({\"jupyterEvent\": \"custom.exercise_interaction\", \"data\": {\"interactionType\": 2, \"questionType\": 4, \"questionId\": \"1_ExamineProvince\", \"learnToolsVersion\": \"0.3.4\", \"valueTowardsCompletion\": 0.0, \"failureMessage\": \"\", \"exceptionClass\": \"\", \"trace\": \"\", \"outcomeType\": 4}}, \"*\")"
      ],
      "text/plain": [
       "<IPython.core.display.Javascript object>"
      ]
     },
     "metadata": {},
     "output_type": "display_data"
    },
    {
     "data": {
      "text/markdown": [
       "<span style=\"color:#3366cc\">Hint:</span> Use `unis = professors['Graduated from'].unique()` to take a look at the unique values in the 'Graduated from' column. You may find it useful to sort the data before printing it."
      ],
      "text/plain": [
       "Hint: Use `unis = professors['Graduated from'].unique()` to take a look at the unique values in the 'Graduated from' column. You may find it useful to sort the data before printing it."
      ]
     },
     "metadata": {},
     "output_type": "display_data"
    }
   ],
   "source": [
    "# Line below will give you a hint\n",
    "q1.hint()"
   ]
  },
  {
   "cell_type": "markdown",
   "id": "aea5da53",
   "metadata": {
    "papermill": {
     "duration": 0.016111,
     "end_time": "2022-05-15T16:23:08.996152",
     "exception": false,
     "start_time": "2022-05-15T16:23:08.980041",
     "status": "completed"
    },
    "tags": []
   },
   "source": [
    "# 2) Do some text pre-processing\n",
    "\n",
    "Convert every entry in the \"Graduated from\" column in the `professors` DataFrame to remove white spaces at the beginning and end of cells."
   ]
  },
  {
   "cell_type": "code",
   "execution_count": 7,
   "id": "b44169d5",
   "metadata": {
    "execution": {
     "iopub.execute_input": "2022-05-15T16:23:09.030666Z",
     "iopub.status.busy": "2022-05-15T16:23:09.030349Z",
     "iopub.status.idle": "2022-05-15T16:23:09.040388Z",
     "shell.execute_reply": "2022-05-15T16:23:09.039847Z"
    },
    "papermill": {
     "duration": 0.029599,
     "end_time": "2022-05-15T16:23:09.041960",
     "exception": false,
     "start_time": "2022-05-15T16:23:09.012361",
     "status": "completed"
    },
    "tags": []
   },
   "outputs": [
    {
     "data": {
      "application/javascript": [
       "parent.postMessage({\"jupyterEvent\": \"custom.exercise_interaction\", \"data\": {\"outcomeType\": 1, \"valueTowardsCompletion\": 0.3333333333333333, \"interactionType\": 1, \"questionType\": 1, \"questionId\": \"2_TextProcessing\", \"learnToolsVersion\": \"0.3.4\", \"failureMessage\": \"\", \"exceptionClass\": \"\", \"trace\": \"\"}}, \"*\")"
      ],
      "text/plain": [
       "<IPython.core.display.Javascript object>"
      ]
     },
     "metadata": {},
     "output_type": "display_data"
    },
    {
     "data": {
      "text/markdown": [
       "<span style=\"color:#33cc33\">Correct</span>"
      ],
      "text/plain": [
       "Correct"
      ]
     },
     "metadata": {},
     "output_type": "display_data"
    }
   ],
   "source": [
    "# TODO: Your code here\n",
    "professors['Graduated from'] = professors['Graduated from'].str.strip()\n",
    "\n",
    "# Check your answer\n",
    "q2.check()"
   ]
  },
  {
   "cell_type": "code",
   "execution_count": 8,
   "id": "2f4b5df3",
   "metadata": {
    "execution": {
     "iopub.execute_input": "2022-05-15T16:23:09.078563Z",
     "iopub.status.busy": "2022-05-15T16:23:09.078065Z",
     "iopub.status.idle": "2022-05-15T16:23:09.081875Z",
     "shell.execute_reply": "2022-05-15T16:23:09.081069Z"
    },
    "papermill": {
     "duration": 0.024056,
     "end_time": "2022-05-15T16:23:09.083777",
     "exception": false,
     "start_time": "2022-05-15T16:23:09.059721",
     "status": "completed"
    },
    "tags": []
   },
   "outputs": [],
   "source": [
    "# Lines below will give you a hint or solution code\n",
    "# q2.hint()\n",
    "# q2.solution()"
   ]
  },
  {
   "cell_type": "markdown",
   "id": "4b53efd5",
   "metadata": {
    "papermill": {
     "duration": 0.01697,
     "end_time": "2022-05-15T16:23:09.119391",
     "exception": false,
     "start_time": "2022-05-15T16:23:09.102421",
     "status": "completed"
    },
    "tags": []
   },
   "source": [
    "# 3) Continue working with countries\n",
    "\n",
    "In the tutorial, we focused on cleaning up inconsistencies in the \"Country\" column.  Run the code cell below to view the list of unique values that we ended with."
   ]
  },
  {
   "cell_type": "code",
   "execution_count": 9,
   "id": "ac30c818",
   "metadata": {
    "execution": {
     "iopub.execute_input": "2022-05-15T16:23:09.155909Z",
     "iopub.status.busy": "2022-05-15T16:23:09.155367Z",
     "iopub.status.idle": "2022-05-15T16:23:09.162139Z",
     "shell.execute_reply": "2022-05-15T16:23:09.161308Z"
    },
    "papermill": {
     "duration": 0.02729,
     "end_time": "2022-05-15T16:23:09.164018",
     "exception": false,
     "start_time": "2022-05-15T16:23:09.136728",
     "status": "completed"
    },
    "tags": []
   },
   "outputs": [
    {
     "data": {
      "text/plain": [
       "array(['australia', 'austria', 'canada', 'china', 'finland', 'france',\n",
       "       'germany', 'greece', 'hongkong', 'ireland', 'italy', 'japan',\n",
       "       'macau', 'malaysia', 'mauritius', 'netherland', 'new zealand',\n",
       "       'norway', 'pakistan', 'portugal', 'russian federation',\n",
       "       'saudi arabia', 'scotland', 'singapore', 'south korea', 'spain',\n",
       "       'sweden', 'thailand', 'turkey', 'uk', 'urbana', 'usa', 'usofa'],\n",
       "      dtype=object)"
      ]
     },
     "execution_count": 9,
     "metadata": {},
     "output_type": "execute_result"
    }
   ],
   "source": [
    "# get all the unique values in the 'City' column\n",
    "countries = professors['Country'].unique()\n",
    "\n",
    "# sort them alphabetically and then take a closer look\n",
    "countries.sort()\n",
    "countries"
   ]
  },
  {
   "cell_type": "markdown",
   "id": "41065d84",
   "metadata": {
    "papermill": {
     "duration": 0.01723,
     "end_time": "2022-05-15T16:23:09.199550",
     "exception": false,
     "start_time": "2022-05-15T16:23:09.182320",
     "status": "completed"
    },
    "tags": []
   },
   "source": [
    "Take another look at the \"Country\" column and see if there's any more data cleaning we need to do.\n",
    "\n",
    "It looks like 'usa' and 'usofa' should be the same country.  Correct the \"Country\" column in the dataframe to replace 'usofa' with 'usa'.\n",
    "\n",
    "**Use the most recent version of the DataFrame (with the whitespaces at the beginning and end of cells removed) from question 2.**"
   ]
  },
  {
   "cell_type": "code",
   "execution_count": 10,
   "id": "9e99a0a8",
   "metadata": {
    "execution": {
     "iopub.execute_input": "2022-05-15T16:23:09.236581Z",
     "iopub.status.busy": "2022-05-15T16:23:09.236094Z",
     "iopub.status.idle": "2022-05-15T16:23:09.248336Z",
     "shell.execute_reply": "2022-05-15T16:23:09.247276Z"
    },
    "papermill": {
     "duration": 0.033258,
     "end_time": "2022-05-15T16:23:09.250450",
     "exception": false,
     "start_time": "2022-05-15T16:23:09.217192",
     "status": "completed"
    },
    "tags": []
   },
   "outputs": [
    {
     "name": "stdout",
     "output_type": "stream",
     "text": [
      "All done!\n"
     ]
    },
    {
     "data": {
      "application/javascript": [
       "parent.postMessage({\"jupyterEvent\": \"custom.exercise_interaction\", \"data\": {\"outcomeType\": 1, \"valueTowardsCompletion\": 0.3333333333333333, \"interactionType\": 1, \"questionType\": 1, \"questionId\": \"3_WorkingWithCities\", \"learnToolsVersion\": \"0.3.4\", \"failureMessage\": \"\", \"exceptionClass\": \"\", \"trace\": \"\"}}, \"*\")"
      ],
      "text/plain": [
       "<IPython.core.display.Javascript object>"
      ]
     },
     "metadata": {},
     "output_type": "display_data"
    },
    {
     "data": {
      "text/markdown": [
       "<span style=\"color:#33cc33\">Correct</span>"
      ],
      "text/plain": [
       "Correct"
      ]
     },
     "metadata": {},
     "output_type": "display_data"
    }
   ],
   "source": [
    "# TODO: Your code here!\n",
    "matches = fuzzywuzzy.process.extract(\"usa\", countries, limit=10, scorer=fuzzywuzzy.fuzz.token_sort_ratio)\n",
    "replace_matches_in_column(df=professors, column='Country', string_to_match=\"usa\", min_ratio=70)\n",
    "\n",
    "# Check your answer\n",
    "q3.check()"
   ]
  },
  {
   "cell_type": "code",
   "execution_count": 11,
   "id": "8317bcd0",
   "metadata": {
    "execution": {
     "iopub.execute_input": "2022-05-15T16:23:09.290090Z",
     "iopub.status.busy": "2022-05-15T16:23:09.289182Z",
     "iopub.status.idle": "2022-05-15T16:23:09.292405Z",
     "shell.execute_reply": "2022-05-15T16:23:09.291893Z"
    },
    "papermill": {
     "duration": 0.024726,
     "end_time": "2022-05-15T16:23:09.294110",
     "exception": false,
     "start_time": "2022-05-15T16:23:09.269384",
     "status": "completed"
    },
    "tags": []
   },
   "outputs": [],
   "source": [
    "# Lines below will give you a hint or solution code\n",
    "#q3.hint()\n",
    "#q3.solution()"
   ]
  },
  {
   "cell_type": "markdown",
   "id": "4588bf02",
   "metadata": {
    "papermill": {
     "duration": 0.019365,
     "end_time": "2022-05-15T16:23:09.333093",
     "exception": false,
     "start_time": "2022-05-15T16:23:09.313728",
     "status": "completed"
    },
    "tags": []
   },
   "source": [
    "# Congratulations!\n",
    "\n",
    "Congratulations for completing the **Data Cleaning** course on Kaggle Learn!\n",
    "\n",
    "To practice your new skills, you're encouraged to download and investigate some of [Kaggle's Datasets](https://www.kaggle.com/datasets)."
   ]
  },
  {
   "cell_type": "markdown",
   "id": "02142004",
   "metadata": {
    "papermill": {
     "duration": 0.018429,
     "end_time": "2022-05-15T16:23:09.370364",
     "exception": false,
     "start_time": "2022-05-15T16:23:09.351935",
     "status": "completed"
    },
    "tags": []
   },
   "source": [
    "---\n",
    "\n",
    "\n",
    "\n",
    "\n",
    "*Have questions or comments? Visit the [course discussion forum](https://www.kaggle.com/learn/data-cleaning/discussion) to chat with other learners.*"
   ]
  }
 ],
 "metadata": {
  "kernelspec": {
   "display_name": "Python 3",
   "language": "python",
   "name": "python3"
  },
  "language_info": {
   "codemirror_mode": {
    "name": "ipython",
    "version": 3
   },
   "file_extension": ".py",
   "mimetype": "text/x-python",
   "name": "python",
   "nbconvert_exporter": "python",
   "pygments_lexer": "ipython3",
   "version": "3.7.12"
  },
  "papermill": {
   "default_parameters": {},
   "duration": 10.393947,
   "end_time": "2022-05-15T16:23:10.110650",
   "environment_variables": {},
   "exception": null,
   "input_path": "__notebook__.ipynb",
   "output_path": "__notebook__.ipynb",
   "parameters": {},
   "start_time": "2022-05-15T16:22:59.716703",
   "version": "2.3.4"
  }
 },
 "nbformat": 4,
 "nbformat_minor": 5
}
